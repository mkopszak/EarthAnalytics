{
 "cells": [
  {
   "cell_type": "code",
   "execution_count": 28,
   "metadata": {},
   "outputs": [
    {
     "name": "stdout",
     "output_type": "stream",
     "text": [
      "{'COMPRESSION': 'LZW', 'INTERLEAVE': 'BAND'}\n",
      "[[  0   0   0 ... 255 255 255]\n",
      " [  0   0   0 ... 255 255 255]\n",
      " [  0   0   0 ... 255 255 255]\n",
      " ...\n",
      " [  0   0   0 ... 255 255 255]\n",
      " [  0   0   0 ... 255 255 255]\n",
      " [  0   0   0 ... 255 255 255]]\n"
     ]
    }
   ],
   "source": [
    "import os\n",
    "import rasterio as rio\n",
    "import earthpy as et\n",
    "\n",
    "with rio.open('/home/marta/PycharmProjects/Earth analytics/spatial/boulder-leehill-rd/pre-flood/lidar/pre_DTM.tif') as lidar_dem:\n",
    "    lidar_dem.bounds\n",
    "    print(lidar_dem.tags(ns='IMAGE_STRUCTURE'))\n",
    "    lidar_dem_mask = lidar_dem.dataset_mask()\n",
    "    print(lidar_dem_mask)\n",
    "\n"
   ]
  },
  {
   "cell_type": "code",
   "execution_count": 3,
   "metadata": {},
   "outputs": [
    {
     "data": {
      "text/plain": [
       "{'driver': 'GTiff',\n",
       " 'dtype': 'float32',\n",
       " 'nodata': -3.4028234663852886e+38,\n",
       " 'width': 4000,\n",
       " 'height': 2000,\n",
       " 'count': 1,\n",
       " 'crs': CRS.from_epsg(32613),\n",
       " 'transform': Affine(1.0, 0.0, 472000.0,\n",
       "        0.0, -1.0, 4436000.0)}"
      ]
     },
     "execution_count": 3,
     "metadata": {},
     "output_type": "execute_result"
    }
   ],
   "source": [
    "lidar_dem.meta"
   ]
  },
  {
   "cell_type": "code",
   "execution_count": 30,
   "metadata": {},
   "outputs": [
    {
     "name": "stdout",
     "output_type": "stream",
     "text": [
      "Both datasets cover the same spatial extent\n",
      "Same res\n"
     ]
    }
   ],
   "source": [
    "with rio.open(\"/home/marta/PycharmProjects/Earth analytics/spatial/boulder-leehill-rd/pre-flood/lidar/pre_DSM.tif\") as lidar_dsm:\n",
    "    extent_lidar_dsm = lidar_dsm.bounds \n",
    "\n",
    "if lidar_dem.bounds == lidar_dsm.bounds:\n",
    "    print(\"Both datasets cover the same spatial extent\")\n",
    "\n",
    "if lidar_dsm.res == lidar_dem.res:\n",
    "    print(\"Same res\")\n"
   ]
  },
  {
   "cell_type": "code",
   "execution_count": 42,
   "metadata": {},
   "outputs": [
    {
     "name": "stdout",
     "output_type": "stream",
     "text": [
      "epsg:32613\n"
     ]
    }
   ],
   "source": [
    "print(lidar_dem.crs.data.get('init'))\n"
   ]
  },
  {
   "cell_type": "code",
   "execution_count": 43,
   "metadata": {},
   "outputs": [
    {
     "data": {
      "text/plain": [
       "'+proj=utm +zone=13 +datum=WGS84 +units=m +no_defs'"
      ]
     },
     "execution_count": 43,
     "metadata": {},
     "output_type": "execute_result"
    }
   ],
   "source": [
    "et.epsg['32613']"
   ]
  },
  {
   "cell_type": "code",
   "execution_count": 44,
   "metadata": {},
   "outputs": [
    {
     "name": "stdout",
     "output_type": "stream",
     "text": [
      "1\n",
      "number of bands (1,)\n"
     ]
    }
   ],
   "source": [
    "print(lidar_dem.count)\n",
    "print(\"number of bands\", lidar_dem.indexes)\n"
   ]
  },
  {
   "cell_type": "code",
   "execution_count": null,
   "metadata": {},
   "outputs": [],
   "source": []
  }
 ],
 "metadata": {
  "kernelspec": {
   "display_name": "Python 3",
   "language": "python",
   "name": "python3"
  },
  "language_info": {
   "codemirror_mode": {
    "name": "ipython",
    "version": 3
   },
   "file_extension": ".py",
   "mimetype": "text/x-python",
   "name": "python",
   "nbconvert_exporter": "python",
   "pygments_lexer": "ipython3",
   "version": "3.6.7"
  }
 },
 "nbformat": 4,
 "nbformat_minor": 2
}
